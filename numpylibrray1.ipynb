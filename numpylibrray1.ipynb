{
 "cells": [
  {
   "cell_type": "markdown",
   "id": "3857c229",
   "metadata": {},
   "source": [
    "# numpy"
   ]
  },
  {
   "cell_type": "code",
   "execution_count": 1,
   "id": "6483d4f8",
   "metadata": {},
   "outputs": [],
   "source": [
    "import numpy as np"
   ]
  },
  {
   "cell_type": "code",
   "execution_count": 2,
   "id": "9dc00c24",
   "metadata": {},
   "outputs": [],
   "source": [
    "# to convert a list to array"
   ]
  },
  {
   "cell_type": "code",
   "execution_count": 3,
   "id": "71600ba0",
   "metadata": {},
   "outputs": [],
   "source": [
    "lis=[12,34,54,67,32]"
   ]
  },
  {
   "cell_type": "code",
   "execution_count": 4,
   "id": "dce2f3da",
   "metadata": {},
   "outputs": [],
   "source": [
    "n1=np.array(lis)"
   ]
  },
  {
   "cell_type": "code",
   "execution_count": 5,
   "id": "c35337a8",
   "metadata": {},
   "outputs": [
    {
     "data": {
      "text/plain": [
       "array([12, 34, 54, 67, 32])"
      ]
     },
     "execution_count": 5,
     "metadata": {},
     "output_type": "execute_result"
    }
   ],
   "source": [
    "n1 # 1d array"
   ]
  },
  {
   "cell_type": "code",
   "execution_count": 6,
   "id": "2e3cf43a",
   "metadata": {},
   "outputs": [
    {
     "name": "stdout",
     "output_type": "stream",
     "text": [
      "<class 'numpy.ndarray'>\n"
     ]
    }
   ],
   "source": [
    "print(type(n1))"
   ]
  },
  {
   "cell_type": "code",
   "execution_count": 7,
   "id": "91207653",
   "metadata": {},
   "outputs": [],
   "source": [
    "list1=[34,56,78,32,56]\n"
   ]
  },
  {
   "cell_type": "code",
   "execution_count": 8,
   "id": "225d950f",
   "metadata": {},
   "outputs": [
    {
     "name": "stdout",
     "output_type": "stream",
     "text": [
      "[[12 34 54 67 32]\n",
      " [34 56 78 32 56]]\n"
     ]
    }
   ],
   "source": [
    "arr1=np.array([lis,list1])\n",
    "print(arr1) #2d array"
   ]
  },
  {
   "cell_type": "code",
   "execution_count": 9,
   "id": "04313985",
   "metadata": {},
   "outputs": [
    {
     "name": "stdout",
     "output_type": "stream",
     "text": [
      "[[2 4 5]\n",
      " [6 4 8]\n",
      " [3 9 6]]\n"
     ]
    }
   ],
   "source": [
    "arr1=np.array([[2,4,5],[6,4,8],[3,9,6]])\n",
    "print(arr1) # 3d array"
   ]
  },
  {
   "cell_type": "code",
   "execution_count": 10,
   "id": "03345ab1",
   "metadata": {},
   "outputs": [
    {
     "data": {
      "text/plain": [
       "array([[0., 0., 0., 0.],\n",
       "       [0., 0., 0., 0.],\n",
       "       [0., 0., 0., 0.],\n",
       "       [0., 0., 0., 0.]])"
      ]
     },
     "execution_count": 10,
     "metadata": {},
     "output_type": "execute_result"
    }
   ],
   "source": [
    "#zeroes functions\n",
    "arr2=np.zeros((4,4) )\n",
    "arr2"
   ]
  },
  {
   "cell_type": "code",
   "execution_count": 11,
   "id": "7086ef77",
   "metadata": {},
   "outputs": [
    {
     "data": {
      "text/plain": [
       "array([[27.565, 27.565, 27.565, 27.565],\n",
       "       [27.565, 27.565, 27.565, 27.565],\n",
       "       [27.565, 27.565, 27.565, 27.565]])"
      ]
     },
     "execution_count": 11,
     "metadata": {},
     "output_type": "execute_result"
    }
   ],
   "source": [
    "#full fucntions\n",
    "ff=np.full((3,4),27.565)\n",
    "ff"
   ]
  },
  {
   "cell_type": "code",
   "execution_count": 12,
   "id": "3c38fd9b",
   "metadata": {},
   "outputs": [
    {
     "data": {
      "text/plain": [
       "array([['hii', 'hii', 'hii', 'hii'],\n",
       "       ['hii', 'hii', 'hii', 'hii'],\n",
       "       ['hii', 'hii', 'hii', 'hii']], dtype='<U3')"
      ]
     },
     "execution_count": 12,
     "metadata": {},
     "output_type": "execute_result"
    }
   ],
   "source": [
    "#full fucntions\n",
    "ff=np.full((3,4),'hii')\n",
    "ff"
   ]
  },
  {
   "cell_type": "code",
   "execution_count": 13,
   "id": "29b00d67",
   "metadata": {},
   "outputs": [
    {
     "data": {
      "text/plain": [
       "array([10, 12, 14, 16, 18, 20])"
      ]
     },
     "execution_count": 13,
     "metadata": {},
     "output_type": "execute_result"
    }
   ],
   "source": [
    "# aranage fucntions\n",
    "arr3=np.arange(10,21,2) #arange(start,end,diffrence)\n",
    "arr3"
   ]
  },
  {
   "cell_type": "code",
   "execution_count": 14,
   "id": "b5f6d050",
   "metadata": {},
   "outputs": [
    {
     "data": {
      "text/plain": [
       "array([20, 19, 18, 17, 16, 15, 14, 13, 12, 11, 10,  9,  8,  7,  6,  5,  4,\n",
       "        3,  2,  1])"
      ]
     },
     "execution_count": 14,
     "metadata": {},
     "output_type": "execute_result"
    }
   ],
   "source": [
    "arr3=np.arange(20,0,-1)\n",
    "arr3"
   ]
  },
  {
   "cell_type": "markdown",
   "id": "0bd1ad4f",
   "metadata": {},
   "source": [
    "np.full() #shift + tab press in this cell"
   ]
  },
  {
   "cell_type": "code",
   "execution_count": 15,
   "id": "2b581be8",
   "metadata": {},
   "outputs": [
    {
     "name": "stdout",
     "output_type": "stream",
     "text": [
      "Requirement already satisfied: numpy in c:\\programdata\\anaconda3\\lib\\site-packages (1.20.1)\n"
     ]
    }
   ],
   "source": [
    "!pip install numpy"
   ]
  },
  {
   "cell_type": "code",
   "execution_count": 16,
   "id": "2bf5fa13",
   "metadata": {},
   "outputs": [
    {
     "data": {
      "text/plain": [
       "array([10.        , 10.71428571, 11.42857143, 12.14285714, 12.85714286,\n",
       "       13.57142857, 14.28571429, 15.        , 15.71428571, 16.42857143,\n",
       "       17.14285714, 17.85714286, 18.57142857, 19.28571429, 20.        ])"
      ]
     },
     "execution_count": 16,
     "metadata": {},
     "output_type": "execute_result"
    }
   ],
   "source": [
    "#linspace\n",
    "arr4 = np.linspace(10,20,15)\n",
    "arr4"
   ]
  },
  {
   "cell_type": "code",
   "execution_count": 17,
   "id": "4d6dc837",
   "metadata": {},
   "outputs": [
    {
     "data": {
      "text/plain": [
       "2"
      ]
     },
     "execution_count": 17,
     "metadata": {},
     "output_type": "execute_result"
    }
   ],
   "source": [
    "#to check dimension\n",
    "arr1.ndim"
   ]
  },
  {
   "cell_type": "code",
   "execution_count": 18,
   "id": "d177e2f5",
   "metadata": {},
   "outputs": [
    {
     "data": {
      "text/plain": [
       "(3, 3)"
      ]
     },
     "execution_count": 18,
     "metadata": {},
     "output_type": "execute_result"
    }
   ],
   "source": [
    "#to check shape (ROW x COLUMN)\n",
    "arr1.shape"
   ]
  },
  {
   "cell_type": "code",
   "execution_count": 19,
   "id": "4736eea1",
   "metadata": {},
   "outputs": [
    {
     "data": {
      "text/plain": [
       "array([[[2, 3, 5],\n",
       "        [5, 6, 7]],\n",
       "\n",
       "       [[2, 9, 8],\n",
       "        [5, 7, 3]]])"
      ]
     },
     "execution_count": 19,
     "metadata": {},
     "output_type": "execute_result"
    }
   ],
   "source": [
    "arr4=np.array([[[2,3,5],[5,6,7]],[[2,9,8],[5,7,3]]])\n",
    "arr4"
   ]
  },
  {
   "cell_type": "code",
   "execution_count": 20,
   "id": "18b3b0c6",
   "metadata": {},
   "outputs": [
    {
     "name": "stdout",
     "output_type": "stream",
     "text": [
      "<class 'numpy.ndarray'>\n"
     ]
    }
   ],
   "source": [
    "print(arr4.__class__)"
   ]
  },
  {
   "cell_type": "code",
   "execution_count": 21,
   "id": "c4ca5144",
   "metadata": {},
   "outputs": [
    {
     "name": "stdout",
     "output_type": "stream",
     "text": [
      "int32\n"
     ]
    }
   ],
   "source": [
    "print(arr4.dtype)"
   ]
  },
  {
   "cell_type": "code",
   "execution_count": 22,
   "id": "0e228482",
   "metadata": {},
   "outputs": [],
   "source": [
    "#converting array to matrix"
   ]
  },
  {
   "cell_type": "code",
   "execution_count": 23,
   "id": "3b4ca659",
   "metadata": {},
   "outputs": [
    {
     "name": "stdout",
     "output_type": "stream",
     "text": [
      "[  0.           3.44827586   6.89655172  10.34482759  13.79310345\n",
      "  17.24137931  20.68965517  24.13793103  27.5862069   31.03448276\n",
      "  34.48275862  37.93103448  41.37931034  44.82758621  48.27586207\n",
      "  51.72413793  55.17241379  58.62068966  62.06896552  65.51724138\n",
      "  68.96551724  72.4137931   75.86206897  79.31034483  82.75862069\n",
      "  86.20689655  89.65517241  93.10344828  96.55172414 100.        ]\n"
     ]
    }
   ],
   "source": [
    "arr5 = np.linspace(0,100,30)\n",
    "print(arr5)"
   ]
  },
  {
   "cell_type": "code",
   "execution_count": 24,
   "id": "added0a4",
   "metadata": {},
   "outputs": [
    {
     "data": {
      "text/plain": [
       "1"
      ]
     },
     "execution_count": 24,
     "metadata": {},
     "output_type": "execute_result"
    }
   ],
   "source": [
    "arr5.ndim"
   ]
  },
  {
   "cell_type": "code",
   "execution_count": 25,
   "id": "b3b120f9",
   "metadata": {},
   "outputs": [
    {
     "name": "stdout",
     "output_type": "stream",
     "text": [
      "[[  0.           3.44827586   6.89655172  10.34482759  13.79310345\n",
      "   17.24137931]\n",
      " [ 20.68965517  24.13793103  27.5862069   31.03448276  34.48275862\n",
      "   37.93103448]\n",
      " [ 41.37931034  44.82758621  48.27586207  51.72413793  55.17241379\n",
      "   58.62068966]\n",
      " [ 62.06896552  65.51724138  68.96551724  72.4137931   75.86206897\n",
      "   79.31034483]\n",
      " [ 82.75862069  86.20689655  89.65517241  93.10344828  96.55172414\n",
      "  100.        ]]\n",
      "\n",
      "\n",
      "************\n",
      "dimesion of array :  2\n"
     ]
    }
   ],
   "source": [
    "mat=arr5.reshape((5,6)) #converting array to matrix it show in row wise not column wise\n",
    "print(mat)\n",
    "print(\"\\n\\n************\\ndimesion of array : \",mat.ndim) # check for dimession"
   ]
  },
  {
   "cell_type": "code",
   "execution_count": 26,
   "id": "237e75c9",
   "metadata": {},
   "outputs": [
    {
     "name": "stdout",
     "output_type": "stream",
     "text": [
      "[[  0.          17.24137931  34.48275862  51.72413793  68.96551724\n",
      "   86.20689655]\n",
      " [  3.44827586  20.68965517  37.93103448  55.17241379  72.4137931\n",
      "   89.65517241]\n",
      " [  6.89655172  24.13793103  41.37931034  58.62068966  75.86206897\n",
      "   93.10344828]\n",
      " [ 10.34482759  27.5862069   44.82758621  62.06896552  79.31034483\n",
      "   96.55172414]\n",
      " [ 13.79310345  31.03448276  48.27586207  65.51724138  82.75862069\n",
      "  100.        ]]\n",
      "\n",
      "\n",
      "************\n",
      "dimesion of array :  2\n"
     ]
    }
   ],
   "source": [
    "mat=arr5.reshape((5,6),order=\"F\") #converting array to matrix it show in column wise\n",
    "print(mat)\n",
    "print(\"\\n\\n************\\ndimesion of array : \",mat.ndim) # check for dimession"
   ]
  },
  {
   "cell_type": "code",
   "execution_count": 27,
   "id": "a4a01f2d",
   "metadata": {},
   "outputs": [
    {
     "name": "stdout",
     "output_type": "stream",
     "text": [
      "[[  0.          17.24137931  34.48275862  51.72413793  68.96551724\n",
      "   86.20689655]\n",
      " [  3.44827586  20.68965517  37.93103448  55.17241379  72.4137931\n",
      "   89.65517241]\n",
      " [  6.89655172  24.13793103  41.37931034  58.62068966  75.86206897\n",
      "   93.10344828]\n",
      " [ 10.34482759  27.5862069   44.82758621  62.06896552  79.31034483\n",
      "   96.55172414]\n",
      " [ 13.79310345  31.03448276  48.27586207  65.51724138  82.75862069\n",
      "  100.        ]]\n",
      "\n",
      "\n",
      "************\n",
      "dimesion of array :  2\n"
     ]
    }
   ],
   "source": [
    "mat=arr5.reshape((5,6),order=\"F\") #converting array to matrix it show in row wise not column wise\n",
    "print(mat)\n",
    "print(\"\\n\\n************\\ndimesion of array : \",mat.ndim) # check for dimession"
   ]
  },
  {
   "cell_type": "code",
   "execution_count": 28,
   "id": "616d87bc",
   "metadata": {},
   "outputs": [
    {
     "name": "stdout",
     "output_type": "stream",
     "text": [
      "[[  0.          17.24137931  34.48275862  51.72413793  68.96551724\n",
      "   86.20689655]\n",
      " [  3.44827586  20.68965517  37.93103448  55.17241379  72.4137931\n",
      "   89.65517241]\n",
      " [  6.89655172  24.13793103  41.37931034  58.62068966  75.86206897\n",
      "   93.10344828]\n",
      " [ 10.34482759  27.5862069   44.82758621  62.06896552  79.31034483\n",
      "   96.55172414]\n",
      " [ 13.79310345  31.03448276  48.27586207  65.51724138  82.75862069\n",
      "  100.        ]]\n",
      "<class 'numpy.ndarray'>\n"
     ]
    }
   ],
   "source": [
    "#matrix to array\n",
    "mat_to_arr=mat.flatten()\n",
    "print(mat)\n",
    "print(type(mat_to_arr))"
   ]
  },
  {
   "cell_type": "code",
   "execution_count": 29,
   "id": "eeb7a873",
   "metadata": {},
   "outputs": [
    {
     "data": {
      "text/plain": [
       "array([[1., 2., 3., 4., 5.],\n",
       "       [3., 4., 5., 6., 7.]])"
      ]
     },
     "execution_count": 29,
     "metadata": {},
     "output_type": "execute_result"
    }
   ],
   "source": [
    "arrr1=np.array([[1,2,3,4,5],[3,4,5,6,7]],dtype=float)\n",
    "arrr1"
   ]
  },
  {
   "cell_type": "code",
   "execution_count": 30,
   "id": "2fc6004c",
   "metadata": {},
   "outputs": [
    {
     "data": {
      "text/plain": [
       "array([1., 2., 3., 4., 5., 6., 7.])"
      ]
     },
     "execution_count": 30,
     "metadata": {},
     "output_type": "execute_result"
    }
   ],
   "source": [
    "np.unique(arrr1) # for unique values in array to show"
   ]
  },
  {
   "cell_type": "code",
   "execution_count": 31,
   "id": "91df8f32",
   "metadata": {},
   "outputs": [
    {
     "name": "stdout",
     "output_type": "stream",
     "text": [
      "[10.         10.47368421 10.94736842 11.42105263 11.89473684 12.36842105\n",
      " 12.84210526 13.31578947 13.78947368 14.26315789 14.73684211 15.21052632\n",
      " 15.68421053 16.15789474 16.63157895 17.10526316 17.57894737 18.05263158\n",
      " 18.52631579 19.        ]\n",
      "[30. 31. 32. 33. 34. 35. 36. 37. 38. 39.]\n"
     ]
    }
   ],
   "source": [
    "arr1=np.linspace(10,19,20)\n",
    "arr2=np.linspace(30,39,10)\n",
    "print(arr1)\n",
    "print(arr2)"
   ]
  },
  {
   "cell_type": "code",
   "execution_count": 32,
   "id": "43c5fc29",
   "metadata": {},
   "outputs": [
    {
     "name": "stdout",
     "output_type": "stream",
     "text": [
      "[10.         10.47368421 10.94736842 11.42105263 11.89473684 12.36842105\n",
      " 12.84210526 13.31578947 13.78947368 14.26315789 14.73684211 15.21052632\n",
      " 15.68421053 16.15789474 16.63157895 17.10526316 17.57894737 18.05263158\n",
      " 18.52631579 19.         30.         31.         32.         33.\n",
      " 34.         35.         36.         37.         38.         39.        ]\n"
     ]
    }
   ],
   "source": [
    "arr5=np.concatenate([arr1,arr2])\n",
    "print(arr5)"
   ]
  },
  {
   "cell_type": "code",
   "execution_count": 33,
   "id": "ea9b8ed1",
   "metadata": {},
   "outputs": [],
   "source": [
    "#COLUMN must be same but ROW may be diffrent, otherwise it shows error"
   ]
  },
  {
   "cell_type": "code",
   "execution_count": 34,
   "id": "e8c8fe95",
   "metadata": {},
   "outputs": [
    {
     "name": "stdout",
     "output_type": "stream",
     "text": [
      "[[10.         10.47368421]\n",
      " [10.94736842 11.42105263]\n",
      " [11.89473684 12.36842105]\n",
      " [12.84210526 13.31578947]\n",
      " [13.78947368 14.26315789]\n",
      " [14.73684211 15.21052632]\n",
      " [15.68421053 16.15789474]\n",
      " [16.63157895 17.10526316]\n",
      " [17.57894737 18.05263158]\n",
      " [18.52631579 19.        ]\n",
      " [30.         31.        ]\n",
      " [32.         33.        ]\n",
      " [34.         35.        ]\n",
      " [36.         37.        ]\n",
      " [38.         39.        ]]\n",
      "(15, 2)\n"
     ]
    }
   ],
   "source": [
    "mm1=arr1.reshape((10,2)) \n",
    "mm2=arr2.reshape((5,2))\n",
    "concat=np.concatenate([mm1,mm2])\n",
    "print(concat)\n",
    "print(concat.shape)"
   ]
  },
  {
   "cell_type": "code",
   "execution_count": 35,
   "id": "15112cbd",
   "metadata": {},
   "outputs": [],
   "source": [
    "# for help you can do this in below code\n",
    "#np.reshape?"
   ]
  },
  {
   "cell_type": "code",
   "execution_count": 36,
   "id": "362032c6",
   "metadata": {},
   "outputs": [
    {
     "name": "stdout",
     "output_type": "stream",
     "text": [
      "[[10.0, 10.473684210526315], [10.947368421052632, 11.421052631578947], [11.894736842105264, 12.368421052631579], [12.842105263157894, 13.31578947368421], [13.789473684210526, 14.263157894736842], [14.736842105263158, 15.210526315789473], [15.68421052631579, 16.157894736842106], [16.63157894736842, 17.105263157894736], [17.57894736842105, 18.05263157894737], [18.526315789473685, 19.0]]\n"
     ]
    }
   ],
   "source": [
    "#array to list\n",
    "l1=mm1.tolist()\n",
    "print(l1)"
   ]
  },
  {
   "cell_type": "code",
   "execution_count": 37,
   "id": "36eb1da1",
   "metadata": {},
   "outputs": [
    {
     "name": "stdout",
     "output_type": "stream",
     "text": [
      "<class 'list'>\n"
     ]
    }
   ],
   "source": [
    "l1=list(mm1) # this is alternative\n",
    "print(type(l1))"
   ]
  },
  {
   "cell_type": "code",
   "execution_count": 38,
   "id": "5de719be",
   "metadata": {},
   "outputs": [
    {
     "data": {
      "text/plain": [
       "array([10,  6, 10,  9,  1, 10,  6,  5,  2,  7,  8,  8,  4,  5,  4,  9,  1,\n",
       "        8,  9,  7,  5,  5,  7,  1,  8,  8,  6,  9, 10,  1])"
      ]
     },
     "execution_count": 38,
     "metadata": {},
     "output_type": "execute_result"
    }
   ],
   "source": [
    "#random.randint, it generate randomly numbers\n",
    "arr4=np.random.randint(1,11,30)\n",
    "arr4"
   ]
  },
  {
   "cell_type": "code",
   "execution_count": 39,
   "id": "485fd64f",
   "metadata": {},
   "outputs": [
    {
     "data": {
      "text/plain": [
       "1"
      ]
     },
     "execution_count": 39,
     "metadata": {},
     "output_type": "execute_result"
    }
   ],
   "source": [
    "#indexing of array\n",
    "arr4[4]"
   ]
  },
  {
   "cell_type": "code",
   "execution_count": 40,
   "id": "f5ba93c2",
   "metadata": {},
   "outputs": [
    {
     "data": {
      "text/plain": [
       "array([10,  6, 10,  9,  1, 10,  6,  5,  2,  7,  8,  8,  4,  5,  4,  9,  1,\n",
       "        8,  9,  7,  5,  5,  7,  1,  8,  8])"
      ]
     },
     "execution_count": 40,
     "metadata": {},
     "output_type": "execute_result"
    }
   ],
   "source": [
    "arr4[:-4]"
   ]
  },
  {
   "cell_type": "code",
   "execution_count": 41,
   "id": "a4824335",
   "metadata": {},
   "outputs": [
    {
     "data": {
      "text/plain": [
       "array([[[2, 3, 5],\n",
       "        [5, 6, 7]],\n",
       "\n",
       "       [[2, 9, 8],\n",
       "        [5, 7, 3]]])"
      ]
     },
     "execution_count": 41,
     "metadata": {},
     "output_type": "execute_result"
    }
   ],
   "source": [
    "#3d matrix\n",
    "arr4=np.array([[[2,3,5],[5,6,7]],[[2,9,8],[5,7,3]]])\n",
    "arr4"
   ]
  },
  {
   "cell_type": "code",
   "execution_count": 42,
   "id": "6f325d99",
   "metadata": {},
   "outputs": [
    {
     "data": {
      "text/plain": [
       "array([[2, 9, 8],\n",
       "       [5, 7, 3]])"
      ]
     },
     "execution_count": 42,
     "metadata": {},
     "output_type": "execute_result"
    }
   ],
   "source": [
    "arr4[1] # it shows 2nd matrix"
   ]
  },
  {
   "cell_type": "code",
   "execution_count": 43,
   "id": "fad404f4",
   "metadata": {},
   "outputs": [
    {
     "data": {
      "text/plain": [
       "array([5, 6, 7])"
      ]
     },
     "execution_count": 43,
     "metadata": {},
     "output_type": "execute_result"
    }
   ],
   "source": [
    "arr4[0][1] #it shows first matrix 2nd row"
   ]
  },
  {
   "cell_type": "code",
   "execution_count": 44,
   "id": "582e180a",
   "metadata": {},
   "outputs": [
    {
     "data": {
      "text/plain": [
       "array([9, 8])"
      ]
     },
     "execution_count": 44,
     "metadata": {},
     "output_type": "execute_result"
    }
   ],
   "source": [
    "arr4[1][0][1:] # always run right-to-left , running process like arr4[1] --> arr4[1][0] --> arr4[1][0][1:]"
   ]
  },
  {
   "cell_type": "code",
   "execution_count": 45,
   "id": "4d4b1447",
   "metadata": {},
   "outputs": [],
   "source": [
    "# vstack hstack and column_stack"
   ]
  },
  {
   "cell_type": "code",
   "execution_count": 46,
   "id": "6b6257b7",
   "metadata": {},
   "outputs": [
    {
     "name": "stdout",
     "output_type": "stream",
     "text": [
      "[[2 4 5]\n",
      " [6 4 8]\n",
      " [3 9 6]]\n",
      "[[3 5 7]\n",
      " [5 9 2]\n",
      " [1 2 1]]\n"
     ]
    }
   ],
   "source": [
    "arr1=np.array([[2,4,5],[6,4,8],[3,9,6]])\n",
    "arr2=np.array([[3,5,7],[5,9,2],[1,2,1]])\n",
    "print(arr1)\n",
    "print(arr2)\n"
   ]
  },
  {
   "cell_type": "code",
   "execution_count": 47,
   "id": "2d980424",
   "metadata": {},
   "outputs": [
    {
     "name": "stdout",
     "output_type": "stream",
     "text": [
      "[[2 4 5]\n",
      " [6 4 8]\n",
      " [3 9 6]\n",
      " [3 5 7]\n",
      " [5 9 2]\n",
      " [1 2 1]]\n"
     ]
    }
   ],
   "source": [
    "change=np.vstack((arr1,arr2))\n",
    "print(change)"
   ]
  },
  {
   "cell_type": "code",
   "execution_count": 48,
   "id": "5fc5dd4e",
   "metadata": {},
   "outputs": [
    {
     "name": "stdout",
     "output_type": "stream",
     "text": [
      "[[2 4 5 3 5 7]\n",
      " [6 4 8 5 9 2]\n",
      " [3 9 6 1 2 1]]\n"
     ]
    }
   ],
   "source": [
    "change=np.hstack((arr1,arr2))\n",
    "print(change)"
   ]
  },
  {
   "cell_type": "code",
   "execution_count": 49,
   "id": "8e9aa9e4",
   "metadata": {},
   "outputs": [
    {
     "name": "stdout",
     "output_type": "stream",
     "text": [
      "[[2 4 5 3 5 7]\n",
      " [6 4 8 5 9 2]\n",
      " [3 9 6 1 2 1]]\n"
     ]
    }
   ],
   "source": [
    "change=np.column_stack((arr1,arr2))\n",
    "print(change)"
   ]
  },
  {
   "cell_type": "code",
   "execution_count": null,
   "id": "318e8416",
   "metadata": {},
   "outputs": [],
   "source": [
    "#intersect_1D , setdiff_1D "
   ]
  },
  {
   "cell_type": "code",
   "execution_count": 53,
   "id": "abc96015",
   "metadata": {},
   "outputs": [],
   "source": [
    "arr6=np.array([21,32,14,65,35,67,42])\n",
    "arr7=np.array([89,32,17,65,35,64,33])"
   ]
  },
  {
   "cell_type": "code",
   "execution_count": 55,
   "id": "5f7735ff",
   "metadata": {},
   "outputs": [
    {
     "data": {
      "text/plain": [
       "array([32, 35, 65])"
      ]
     },
     "execution_count": 55,
     "metadata": {},
     "output_type": "execute_result"
    }
   ],
   "source": [
    "np.intersect1d(arr6,arr7) #show interseting point or a comman values of arr6"
   ]
  },
  {
   "cell_type": "code",
   "execution_count": 58,
   "id": "096b6d8c",
   "metadata": {},
   "outputs": [
    {
     "data": {
      "text/plain": [
       "array([14, 21, 42, 67])"
      ]
     },
     "execution_count": 58,
     "metadata": {},
     "output_type": "execute_result"
    }
   ],
   "source": [
    "np.setdiff1d(arr6,arr7) # arr6 ki wo values show krega jo arr7 me nahi hai."
   ]
  },
  {
   "cell_type": "code",
   "execution_count": 60,
   "id": "8d08026d",
   "metadata": {},
   "outputs": [],
   "source": [
    "#Array Arithmatic "
   ]
  },
  {
   "cell_type": "code",
   "execution_count": 61,
   "id": "2a44fc09",
   "metadata": {},
   "outputs": [
    {
     "name": "stdout",
     "output_type": "stream",
     "text": [
      "[21 32 14 65 35 67 42]\n",
      "[89 32 17 65 35 64 33]\n"
     ]
    }
   ],
   "source": [
    "print(arr6)\n",
    "print(arr7)"
   ]
  },
  {
   "cell_type": "code",
   "execution_count": 65,
   "id": "d1b18cb3",
   "metadata": {},
   "outputs": [
    {
     "data": {
      "text/plain": [
       "611"
      ]
     },
     "execution_count": 65,
     "metadata": {},
     "output_type": "execute_result"
    }
   ],
   "source": [
    "np.sum((arr6,arr7)) # sum all value of the array but it should be changed(or typecasted) into a list or tuple"
   ]
  },
  {
   "cell_type": "code",
   "execution_count": 67,
   "id": "fe9b50dd",
   "metadata": {},
   "outputs": [
    {
     "data": {
      "text/plain": [
       "array([110,  64,  31, 130,  70, 131,  75])"
      ]
     },
     "execution_count": 67,
     "metadata": {},
     "output_type": "execute_result"
    }
   ],
   "source": [
    "np.sum([arr6,arr7], axis=0) # add two array with row wise or x-axis wise"
   ]
  },
  {
   "cell_type": "code",
   "execution_count": 70,
   "id": "9f65791f",
   "metadata": {},
   "outputs": [
    {
     "data": {
      "text/plain": [
       "array([276, 335])"
      ]
     },
     "execution_count": 70,
     "metadata": {},
     "output_type": "execute_result"
    }
   ],
   "source": [
    "np.sum([arr6,arr7], axis=1) # add two array with column wise or y-axis wise"
   ]
  },
  {
   "cell_type": "code",
   "execution_count": 73,
   "id": "942945d9",
   "metadata": {},
   "outputs": [
    {
     "data": {
      "text/plain": [
       "array([27, 38, 20, 71, 41, 73, 48])"
      ]
     },
     "execution_count": 73,
     "metadata": {},
     "output_type": "execute_result"
    }
   ],
   "source": [
    "arr6 + 5 # add 5 with each element of arr6  \n",
    "# you can also do ( * , / , // , ** )"
   ]
  },
  {
   "cell_type": "code",
   "execution_count": 77,
   "id": "830fcd64",
   "metadata": {},
   "outputs": [
    {
     "data": {
      "text/plain": [
       "array([-67,   1,  -2,   1,   1,   4,  10])"
      ]
     },
     "execution_count": 77,
     "metadata": {},
     "output_type": "execute_result"
    }
   ],
   "source": [
    "np.subtract(arr6,arr7) # substract arr6-arr7 \n",
    "        #or\n",
    "#alterntaive method you can use \n",
    "#print(arr6 -arr7) "
   ]
  },
  {
   "cell_type": "code",
   "execution_count": 78,
   "id": "2cf372c7",
   "metadata": {},
   "outputs": [],
   "source": [
    "#save and load files "
   ]
  },
  {
   "cell_type": "code",
   "execution_count": 82,
   "id": "8c22df13",
   "metadata": {},
   "outputs": [
    {
     "data": {
      "text/plain": [
       "array([[22, 33, 15, 66, 36, 68, 43],\n",
       "       [89, 32, 17, 65, 35, 64, 33]])"
      ]
     },
     "execution_count": 82,
     "metadata": {},
     "output_type": "execute_result"
    }
   ],
   "source": [
    "mt1=np.array([arr6,arr7]) # it should be in the list\n",
    "mt1"
   ]
  },
  {
   "cell_type": "code",
   "execution_count": 88,
   "id": "3e986044",
   "metadata": {},
   "outputs": [],
   "source": [
    "np.save(\"matri\",mt1) # default extension is  .npy "
   ]
  },
  {
   "cell_type": "code",
   "execution_count": 89,
   "id": "42b9df84",
   "metadata": {},
   "outputs": [
    {
     "data": {
      "text/plain": [
       "'C:\\\\Users\\\\91798\\\\python_libaries'"
      ]
     },
     "execution_count": 89,
     "metadata": {},
     "output_type": "execute_result"
    }
   ],
   "source": [
    "pwd # present working directory"
   ]
  },
  {
   "cell_type": "code",
   "execution_count": null,
   "id": "2953ff51",
   "metadata": {},
   "outputs": [],
   "source": []
  },
  {
   "cell_type": "code",
   "execution_count": 92,
   "id": "6e53cdc0",
   "metadata": {},
   "outputs": [
    {
     "name": "stdout",
     "output_type": "stream",
     "text": [
      "[[22 33 15 66 36 68 43]\n",
      " [89 32 17 65 35 64 33]]\n"
     ]
    }
   ],
   "source": [
    "# use this file matri.npy or load file\n",
    "t_mat=np.load('matri.npy')\n",
    "print(t_mat)"
   ]
  },
  {
   "cell_type": "code",
   "execution_count": null,
   "id": "db73dd87",
   "metadata": {},
   "outputs": [],
   "source": []
  }
 ],
 "metadata": {
  "kernelspec": {
   "display_name": "Python 3",
   "language": "python",
   "name": "python3"
  },
  "language_info": {
   "codemirror_mode": {
    "name": "ipython",
    "version": 3
   },
   "file_extension": ".py",
   "mimetype": "text/x-python",
   "name": "python",
   "nbconvert_exporter": "python",
   "pygments_lexer": "ipython3",
   "version": "3.8.8"
  },
  "toc": {
   "base_numbering": 1,
   "nav_menu": {},
   "number_sections": false,
   "sideBar": true,
   "skip_h1_title": false,
   "title_cell": "Table of Contents",
   "title_sidebar": "Contents",
   "toc_cell": false,
   "toc_position": {
    "height": "calc(100% - 180px)",
    "left": "10px",
    "top": "150px",
    "width": "165px"
   },
   "toc_section_display": true,
   "toc_window_display": false
  }
 },
 "nbformat": 4,
 "nbformat_minor": 5
}
