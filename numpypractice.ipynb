{
 "cells": [
  {
   "cell_type": "markdown",
   "id": "cce4001b",
   "metadata": {},
   "source": [
    "# Numpy libaray"
   ]
  },
  {
   "cell_type": "code",
   "execution_count": 1,
   "id": "8ee10c80",
   "metadata": {},
   "outputs": [],
   "source": [
    "import numpy as np"
   ]
  },
  {
   "cell_type": "code",
   "execution_count": 2,
   "id": "45367193",
   "metadata": {},
   "outputs": [],
   "source": [
    "#covert List to array\n",
    "list1=[2,3,4,6,8,9,4]"
   ]
  },
  {
   "cell_type": "code",
   "execution_count": 3,
   "id": "43158bb9",
   "metadata": {},
   "outputs": [
    {
     "name": "stdout",
     "output_type": "stream",
     "text": [
      "[2 3 4 6 8 9 4] \n",
      " <class 'numpy.ndarray'>\n"
     ]
    }
   ],
   "source": [
    "#its 1D array\n",
    "arr1=np.array(list1)\n",
    "print(arr1,\"\\n\",arr1.__class__) "
   ]
  },
  {
   "cell_type": "code",
   "execution_count": 4,
   "id": "b3d7635d",
   "metadata": {},
   "outputs": [
    {
     "name": "stdout",
     "output_type": "stream",
     "text": [
      "[[23 65 78 54 89 34]\n",
      " [87 89 32 45 33 67]]\n"
     ]
    }
   ],
   "source": [
    "#its 2D array\n",
    "arr2=np.array([[23,65,78,54,89,34],[87,89,32,45,33,67]])\n",
    "arr2\n",
    "print(arr2)"
   ]
  },
  {
   "cell_type": "code",
   "execution_count": 5,
   "id": "2a915c3d",
   "metadata": {},
   "outputs": [
    {
     "name": "stdout",
     "output_type": "stream",
     "text": [
      "[[4 8 9 4]\n",
      " [6 9 4 2]\n",
      " [6 2 1 0]\n",
      " [3 9 7 6]]\n"
     ]
    }
   ],
   "source": [
    "#its also 2D array\n",
    "arr3=np.array([[4,8,9,4],[6,9,4,2],[6,2,1,0],[3,9,7,6]]) # its always 2d array does not matter how many list there in present\n",
    "arr3\n",
    "print(arr3)"
   ]
  },
  {
   "cell_type": "code",
   "execution_count": 6,
   "id": "f257b00d",
   "metadata": {},
   "outputs": [
    {
     "name": "stdout",
     "output_type": "stream",
     "text": [
      "Dimenssion of arr1 : 1D\n",
      "Dimenssion of arr2 : 2D\n",
      "Dimenssion of arr3 : 2D\n"
     ]
    }
   ],
   "source": [
    "#check All Arrays Dimenssion\n",
    "print(f\"Dimenssion of arr1 : {arr1.ndim}D\")\n",
    "print(f\"Dimenssion of arr2 : {arr2.ndim}D\")\n",
    "print(f\"Dimenssion of arr3 : {arr3.ndim}D\")"
   ]
  },
  {
   "cell_type": "code",
   "execution_count": 7,
   "id": "0249c44d",
   "metadata": {},
   "outputs": [
    {
     "name": "stdout",
     "output_type": "stream",
     "text": [
      "Shapes of arr1 :  (7,)\n",
      "Shapes of arr2 :  (2, 6)\n",
      "Shapes of arr3 :  (4, 4)\n"
     ]
    }
   ],
   "source": [
    "#Check There Shapes or (ROW x COLUMN)\n",
    "print('Shapes of arr1 : ',arr1.shape)\n",
    "print('Shapes of arr2 : ',arr2.shape) \n",
    "print('Shapes of arr3 : ',arr3.shape)"
   ]
  },
  {
   "cell_type": "code",
   "execution_count": 8,
   "id": "36df32c7",
   "metadata": {},
   "outputs": [
    {
     "data": {
      "text/plain": [
       "array([[[2, 3, 4, 8],\n",
       "        [9, 5, 3, 6],\n",
       "        [7, 4, 6, 3]],\n",
       "\n",
       "       [[2, 1, 0, 2],\n",
       "        [4, 9, 8, 6],\n",
       "        [8, 9, 3, 2]]])"
      ]
     },
     "execution_count": 8,
     "metadata": {},
     "output_type": "execute_result"
    }
   ],
   "source": [
    "# its 3D Array does not matter how many list there\n",
    "arr4=np.array([[[2,3,4,8],[9,5,3,6],[7,4,6,3]],[[2,1,0,2],[4,9,8,6],[8,9,3,2]]])\n",
    "arr4"
   ]
  },
  {
   "cell_type": "code",
   "execution_count": 9,
   "id": "3c16d4b6",
   "metadata": {},
   "outputs": [
    {
     "data": {
      "text/plain": [
       "array([[[2, 3, 4, 8],\n",
       "        [9, 5, 3, 6],\n",
       "        [7, 4, 6, 3]],\n",
       "\n",
       "       [[2, 1, 0, 2],\n",
       "        [4, 9, 8, 6],\n",
       "        [9, 9, 3, 8]],\n",
       "\n",
       "       [[7, 1, 0, 7],\n",
       "        [0, 9, 8, 0],\n",
       "        [9, 4, 6, 7]]])"
      ]
     },
     "execution_count": 9,
     "metadata": {},
     "output_type": "execute_result"
    }
   ],
   "source": [
    "arr5=np.array([[[2,3,4,8],[9,5,3,6],[7,4,6,3]],[[2,1,0,2],[4,9,8,6],[9,9,3,8]],[[7,1,0,7],[0,9,8,0],[9,4,6,7]]])\n",
    "arr5"
   ]
  },
  {
   "cell_type": "code",
   "execution_count": 10,
   "id": "65804601",
   "metadata": {},
   "outputs": [
    {
     "name": "stdout",
     "output_type": "stream",
     "text": [
      "Dimenssion of arr4 : 3D\n",
      "Dimenssion of arr5 : 3D\n"
     ]
    }
   ],
   "source": [
    "#check 3D Array's Dimenssion\n",
    "print(f'Dimenssion of arr4 : {arr4.ndim}D') \n",
    "print(f'Dimenssion of arr5 : {arr5.ndim}D')"
   ]
  },
  {
   "cell_type": "code",
   "execution_count": 11,
   "id": "a8903478",
   "metadata": {},
   "outputs": [
    {
     "name": "stdout",
     "output_type": "stream",
     "text": [
      "Shapes of arr4 :  (2, 3, 4)\n",
      "Shapes of arr5 :  (3, 3, 4)\n"
     ]
    }
   ],
   "source": [
    "#Check 3D Shapes or ( NoOfMatrix , EachROW , EachCOLUMN )\n",
    "print('Shapes of arr4 : ',arr4.shape)\n",
    "print('Shapes of arr5 : ',arr5.shape) "
   ]
  },
  {
   "cell_type": "code",
   "execution_count": 12,
   "id": "c9fc03dd",
   "metadata": {},
   "outputs": [
    {
     "name": "stdout",
     "output_type": "stream",
     "text": [
      "[[34 34 34 34]\n",
      " [34 34 34 34]\n",
      " [34 34 34 34]]\n",
      "\n",
      " [['python' 'python' 'python' 'python']\n",
      " ['python' 'python' 'python' 'python']\n",
      " ['python' 'python' 'python' 'python']\n",
      " ['python' 'python' 'python' 'python']]\n"
     ]
    }
   ],
   "source": [
    "#full fucntions\n",
    "fullfun_num=np.full((3,4),34) # you type any number/string of array and also 3x4 matrox form\n",
    "print(fullfun_num)\n",
    "fullfun_str=np.full((4,4),'python') \n",
    "print(\"\\n\",fullfun_str)"
   ]
  },
  {
   "cell_type": "code",
   "execution_count": 13,
   "id": "87d1d1eb",
   "metadata": {},
   "outputs": [
    {
     "data": {
      "text/plain": [
       "array([10, 12, 14, 16, 18, 20])"
      ]
     },
     "execution_count": 13,
     "metadata": {},
     "output_type": "execute_result"
    }
   ],
   "source": [
    "#arange funncation excatly work like range fucntion python\n",
    "arr6=np.arange(10,21,2) #arange(start,end,diffrence) , there end is exclusive\n",
    "arr6"
   ]
  },
  {
   "cell_type": "code",
   "execution_count": 14,
   "id": "76a0a789",
   "metadata": {},
   "outputs": [
    {
     "data": {
      "text/plain": [
       "array([15, 14, 13, 12, 11, 10,  9,  8,  7,  6,  5,  4,  3,  2,  1])"
      ]
     },
     "execution_count": 14,
     "metadata": {},
     "output_type": "execute_result"
    }
   ],
   "source": [
    "arr6=np.arange(15,0,-1)\n",
    "arr6"
   ]
  },
  {
   "cell_type": "code",
   "execution_count": 15,
   "id": "50c1d362",
   "metadata": {},
   "outputs": [
    {
     "data": {
      "text/plain": [
       "array([10, 10, 11, 12, 12, 13, 14, 15, 15, 16, 17, 17, 18, 19, 20])"
      ]
     },
     "execution_count": 15,
     "metadata": {},
     "output_type": "execute_result"
    }
   ],
   "source": [
    "#linspace\n",
    "arr7=np.linspace(10,20,15, dtype=int) # it have inclusive and it diveded with 15 equal parts\n",
    "arr7\n",
    "#logic behind dived equal parts b/w 10 to 20\n",
    "#(20-10)/15-1 = 10/14 =0.71428571 and just add this number with 10 until we will not got 20 "
   ]
  },
  {
   "cell_type": "code",
   "execution_count": 16,
   "id": "d09b36ad",
   "metadata": {},
   "outputs": [
    {
     "data": {
      "text/plain": [
       "array([[10, 10, 11, 12, 12],\n",
       "       [13, 14, 15, 15, 16],\n",
       "       [17, 17, 18, 19, 20]])"
      ]
     },
     "execution_count": 16,
     "metadata": {},
     "output_type": "execute_result"
    }
   ],
   "source": [
    "#covert arr7 array into matrix\n",
    "mat1=arr7.reshape((3,5)) # by default its column wise show not row wise\n",
    "mat1"
   ]
  },
  {
   "cell_type": "code",
   "execution_count": 17,
   "id": "ffb3415f",
   "metadata": {},
   "outputs": [
    {
     "data": {
      "text/plain": [
       "array([[10, 12, 14, 16, 18],\n",
       "       [10, 12, 15, 17, 19],\n",
       "       [11, 13, 15, 17, 20]])"
      ]
     },
     "execution_count": 17,
     "metadata": {},
     "output_type": "execute_result"
    }
   ],
   "source": [
    "mat1=arr7.reshape((3,5),order='F') # now its row wise show not column wise\n",
    "mat1"
   ]
  },
  {
   "cell_type": "code",
   "execution_count": 18,
   "id": "57c49a20",
   "metadata": {},
   "outputs": [
    {
     "data": {
      "text/plain": [
       "array([10, 12, 14, 16, 18, 10, 12, 15, 17, 19, 11, 13, 15, 17, 20])"
      ]
     },
     "execution_count": 18,
     "metadata": {},
     "output_type": "execute_result"
    }
   ],
   "source": [
    "#covert again matrix to array\n",
    "mat1_to_arr=mat1.flatten()\n",
    "mat1_to_arr"
   ]
  },
  {
   "cell_type": "code",
   "execution_count": 19,
   "id": "faa72e61",
   "metadata": {},
   "outputs": [
    {
     "data": {
      "text/plain": [
       "array([2, 6, 7, 8])"
      ]
     },
     "execution_count": 19,
     "metadata": {},
     "output_type": "execute_result"
    }
   ],
   "source": [
    "#show unique values from array\n",
    "unqarr1=np.array([[2,2,6],[7,8,7]],dtype=int)\n",
    "unqarr1=np.unique(unqarr1)\n",
    "unqarr1"
   ]
  },
  {
   "cell_type": "code",
   "execution_count": 20,
   "id": "76ee33bd",
   "metadata": {},
   "outputs": [
    {
     "name": "stdout",
     "output_type": "stream",
     "text": [
      "[10 11 12 13 14 15 16 17 18 19] \n",
      " [20 21 22 23 24 25 26 27 28 29]\n",
      "\n",
      "Concatenate Above Array\n",
      " [20 21 22 23 24 25 26 27 28 29 10 11 12 13 14 15 16 17 18 19]\n"
     ]
    }
   ],
   "source": [
    "#concatinate two or more arrays\n",
    "arr8=np.linspace(10,19,10,dtype=int)\n",
    "arr9=np.linspace(20,29,10,dtype=int)\n",
    "print(arr8,\"\\n\",arr9)\n",
    "concat=np.concatenate((arr9,arr8)) # you pass with list or tuple\n",
    "print(\"\\nConcatenate Above Array\\n\",concat)"
   ]
  },
  {
   "cell_type": "code",
   "execution_count": 21,
   "id": "cf595317",
   "metadata": {},
   "outputs": [
    {
     "name": "stdout",
     "output_type": "stream",
     "text": [
      "(10, 2)\n"
     ]
    },
    {
     "data": {
      "text/plain": [
       "array([[10, 11],\n",
       "       [12, 13],\n",
       "       [14, 15],\n",
       "       [16, 17],\n",
       "       [18, 19],\n",
       "       [20, 21],\n",
       "       [22, 23],\n",
       "       [24, 25],\n",
       "       [26, 27],\n",
       "       [28, 29]])"
      ]
     },
     "execution_count": 21,
     "metadata": {},
     "output_type": "execute_result"
    }
   ],
   "source": [
    "#COLUMN must be same but ROW may be diffrent also rowxcolumn must be same \n",
    "mm1=arr8.reshape((5,2))\n",
    "mm2=arr9.reshape((5,2))\n",
    "concat=np.concatenate([mm1,mm2])\n",
    "print(concat.shape)\n",
    "concat"
   ]
  },
  {
   "cell_type": "code",
   "execution_count": 22,
   "id": "6b10dd15",
   "metadata": {},
   "outputs": [
    {
     "name": "stdout",
     "output_type": "stream",
     "text": [
      "<class 'list'> \n",
      " [[10, 11], [12, 13], [14, 15], [16, 17], [18, 19]]\n"
     ]
    }
   ],
   "source": [
    "#convert array to list\n",
    "l1=mm1.tolist()\n",
    "print(l1.__class__,\"\\n\",l1)"
   ]
  },
  {
   "cell_type": "code",
   "execution_count": 23,
   "id": "40000edc",
   "metadata": {},
   "outputs": [
    {
     "data": {
      "text/plain": [
       "array([7, 8, 6, 5, 5, 8, 6, 1])"
      ]
     },
     "execution_count": 23,
     "metadata": {},
     "output_type": "execute_result"
    }
   ],
   "source": [
    "#random number geberate into array\n",
    "arr10=np.random.randint(1,11,8) # (start,end,diffrence), end is exclusive\n",
    "arr10"
   ]
  },
  {
   "cell_type": "code",
   "execution_count": 24,
   "id": "cf7e2733",
   "metadata": {},
   "outputs": [
    {
     "name": "stdout",
     "output_type": "stream",
     "text": [
      "7 \n",
      " 1 \n",
      " 8\n",
      "[7 8 6] \n",
      " [8 6 1] \n",
      " [6 5 5 8] \n",
      " [6 5 5]\n"
     ]
    }
   ],
   "source": [
    "#indexing acces like in python with array\n",
    "print(arr10[0],\"\\n\",arr10[-1],\"\\n\",arr10[-3])\n",
    "print(arr10[:3],\"\\n\",arr10[5:],\"\\n\",arr10[2:6],\"\\n\",arr10[2:-3])"
   ]
  },
  {
   "cell_type": "code",
   "execution_count": 25,
   "id": "5757f45c",
   "metadata": {},
   "outputs": [
    {
     "name": "stdout",
     "output_type": "stream",
     "text": [
      "[[2 3 4 8]\n",
      " [9 5 3 6]\n",
      " [7 4 6 3]] \n",
      "\n",
      " [[2 1 0 2]\n",
      " [4 9 8 6]\n",
      " [9 9 3 8]] \n",
      "\n",
      " [[7 1 0 7]\n",
      " [0 9 8 0]\n",
      " [9 4 6 7]] \n",
      "\n",
      "\n",
      "[7 4 6 3] \n",
      "\n"
     ]
    }
   ],
   "source": [
    "#arr5 is 3D matrix on top where we created\n",
    "arr5\n",
    "print(arr5[0],'\\n\\n',arr5[1],'\\n\\n',arr5[2],'\\n\\n')\n",
    "print(arr5[0][2],'\\n')"
   ]
  },
  {
   "cell_type": "code",
   "execution_count": 26,
   "id": "4dd7dbaa",
   "metadata": {},
   "outputs": [
    {
     "name": "stdout",
     "output_type": "stream",
     "text": [
      "[[2 3 4 8]\n",
      " [9 5 3 6]\n",
      " [7 4 6 3]] \n",
      "\n",
      " [[2 1 0 2]\n",
      " [4 9 8 6]\n",
      " [9 9 3 8]] \n",
      "\n",
      " [[7 1 0 7]\n",
      " [0 9 8 0]\n",
      " [9 4 6 7]] \n",
      "\n",
      "\n",
      "[9 9 3 8] \n",
      "\n"
     ]
    }
   ],
   "source": [
    "print(arr5[0],'\\n\\n',arr5[1],'\\n\\n',arr5[2],'\\n\\n')\n",
    "print(arr5[1][2],'\\n')"
   ]
  },
  {
   "cell_type": "code",
   "execution_count": 27,
   "id": "57055cdf",
   "metadata": {},
   "outputs": [
    {
     "name": "stdout",
     "output_type": "stream",
     "text": [
      "[[2 3 4 8]\n",
      " [9 5 3 6]\n",
      " [7 4 6 3]] \n",
      "\n",
      " [[2 1 0 2]\n",
      " [4 9 8 6]\n",
      " [9 9 3 8]] \n",
      "\n",
      " [[7 1 0 7]\n",
      " [0 9 8 0]\n",
      " [9 4 6 7]] \n",
      "\n",
      "\n",
      "[7 1 0] \n",
      "\n"
     ]
    }
   ],
   "source": [
    "print(arr5[0],'\\n\\n',arr5[1],'\\n\\n',arr5[2],'\\n\\n')\n",
    "print(arr5[2][0][:3],'\\n')"
   ]
  },
  {
   "cell_type": "code",
   "execution_count": 28,
   "id": "7d26b850",
   "metadata": {},
   "outputs": [
    {
     "name": "stdout",
     "output_type": "stream",
     "text": [
      "[[2 3 4 8]\n",
      " [9 5 3 6]\n",
      " [7 4 6 3]] \n",
      "\n",
      " [[2 1 0 2]\n",
      " [4 9 8 6]\n",
      " [9 9 3 8]] \n",
      "\n",
      " [[7 1 0 7]\n",
      " [0 9 8 0]\n",
      " [9 4 6 7]] \n",
      "\n",
      "\n",
      "[2 1 0] \n",
      "\n"
     ]
    }
   ],
   "source": [
    "print(arr5[0],'\\n\\n',arr5[1],'\\n\\n',arr5[2],'\\n\\n')\n",
    "print(arr5[1][0][:-1],'\\n')"
   ]
  },
  {
   "cell_type": "code",
   "execution_count": 30,
   "id": "5b4bfd94",
   "metadata": {},
   "outputs": [],
   "source": [
    "# vstack , Hstack and column_stack"
   ]
  },
  {
   "cell_type": "code",
   "execution_count": 32,
   "id": "8d9e4a52",
   "metadata": {},
   "outputs": [
    {
     "name": "stdout",
     "output_type": "stream",
     "text": [
      "[[2 5 7]\n",
      " [3 8 0]\n",
      " [4 7 1]] \n",
      "\n",
      " [[5 8 4]\n",
      " [5 8 1]\n",
      " [9 9 3]]\n"
     ]
    }
   ],
   "source": [
    "arr11=np.array([[2,5,7],[3,8,0],[4,7,1]])\n",
    "arr12=np.array([[5,8,4],[5,8,1],[9,9,3]])\n",
    "print(arr11,\"\\n\\n\",arr12) "
   ]
  },
  {
   "cell_type": "code",
   "execution_count": 37,
   "id": "699c0a7e",
   "metadata": {},
   "outputs": [
    {
     "data": {
      "text/plain": [
       "array([[2, 5, 7],\n",
       "       [3, 8, 0],\n",
       "       [4, 7, 1],\n",
       "       [5, 8, 4],\n",
       "       [5, 8, 1],\n",
       "       [9, 9, 3]])"
      ]
     },
     "execution_count": 37,
     "metadata": {},
     "output_type": "execute_result"
    }
   ],
   "source": [
    "chnage=np.vstack([arr11,arr12])\n",
    "chnage"
   ]
  },
  {
   "cell_type": "code",
   "execution_count": 38,
   "id": "86147b39",
   "metadata": {},
   "outputs": [
    {
     "data": {
      "text/plain": [
       "array([[2, 5, 7, 5, 8, 4],\n",
       "       [3, 8, 0, 5, 8, 1],\n",
       "       [4, 7, 1, 9, 9, 3]])"
      ]
     },
     "execution_count": 38,
     "metadata": {},
     "output_type": "execute_result"
    }
   ],
   "source": [
    "chnage=np.hstack([arr11,arr12])\n",
    "chnage"
   ]
  },
  {
   "cell_type": "code",
   "execution_count": 39,
   "id": "18aafa06",
   "metadata": {},
   "outputs": [
    {
     "data": {
      "text/plain": [
       "array([[2, 5, 7, 5, 8, 4],\n",
       "       [3, 8, 0, 5, 8, 1],\n",
       "       [4, 7, 1, 9, 9, 3]])"
      ]
     },
     "execution_count": 39,
     "metadata": {},
     "output_type": "execute_result"
    }
   ],
   "source": [
    "chnage=np.column_stack([arr11,arr12])\n",
    "chnage"
   ]
  },
  {
   "cell_type": "code",
   "execution_count": 40,
   "id": "28aa660b",
   "metadata": {},
   "outputs": [],
   "source": [
    "#intersect_1D , setdiff_1D"
   ]
  },
  {
   "cell_type": "code",
   "execution_count": 41,
   "id": "d191df90",
   "metadata": {},
   "outputs": [],
   "source": [
    "arr13=np.array([21,23,46,78,45,34,90,76])\n",
    "arr14=np.array([34,67,23,78,89,56,90,76])"
   ]
  },
  {
   "cell_type": "code",
   "execution_count": 43,
   "id": "569d76d3",
   "metadata": {},
   "outputs": [
    {
     "data": {
      "text/plain": [
       "array([23, 34, 76, 78, 90])"
      ]
     },
     "execution_count": 43,
     "metadata": {},
     "output_type": "execute_result"
    }
   ],
   "source": [
    "#it shows intresecting point or comman values\n",
    "np.intersect1d(arr13,arr14)"
   ]
  },
  {
   "cell_type": "code",
   "execution_count": 45,
   "id": "2100543c",
   "metadata": {},
   "outputs": [
    {
     "data": {
      "text/plain": [
       "array([21, 45, 46])"
      ]
     },
     "execution_count": 45,
     "metadata": {},
     "output_type": "execute_result"
    }
   ],
   "source": [
    "# it shows not repeated values or not comman value\n",
    "np.setdiff1d(arr13,arr14) # arr13's non-comman values show only"
   ]
  },
  {
   "cell_type": "code",
   "execution_count": 47,
   "id": "d8e330e6",
   "metadata": {},
   "outputs": [
    {
     "data": {
      "text/plain": [
       "array([56, 67, 89])"
      ]
     },
     "execution_count": 47,
     "metadata": {},
     "output_type": "execute_result"
    }
   ],
   "source": [
    "# it shows not repeated values or not comman value\n",
    "np.setdiff1d(arr14,arr13) # arr14's non-comman values show only"
   ]
  },
  {
   "cell_type": "code",
   "execution_count": 49,
   "id": "6c723ff8",
   "metadata": {},
   "outputs": [],
   "source": [
    "# Array Arithmetics"
   ]
  },
  {
   "cell_type": "code",
   "execution_count": 51,
   "id": "7dfde32a",
   "metadata": {},
   "outputs": [
    {
     "name": "stdout",
     "output_type": "stream",
     "text": [
      "Array1 :  [21 23 46 78 45 34 90 76] \n",
      "\n",
      "Array2 : [34 67 23 78 89 56 90 76]\n"
     ]
    }
   ],
   "source": [
    "print(\"Array1 : \",arr13,\"\\n\\nArray2 :\",arr14) "
   ]
  },
  {
   "cell_type": "code",
   "execution_count": 62,
   "id": "9343f972",
   "metadata": {},
   "outputs": [
    {
     "name": "stdout",
     "output_type": "stream",
     "text": [
      "Sum is :  926\n",
      "Sum of axis=0 :  [ 55  90  69 156 134  90 180 152]\n",
      "Sum of axis=1 :  [413 513]\n"
     ]
    }
   ],
   "source": [
    "print(\"Sum is : \",np.sum((arr13,arr14)))\n",
    "print(\"Sum of axis=0 : \",np.sum((arr13,arr14),axis=0)) # two array added with row wise or vertically\n",
    "print(\"Sum of axis=1 : \",np.sum((arr13,arr14),axis=1)) # two array added with column wise or horizontaly "
   ]
  },
  {
   "cell_type": "code",
   "execution_count": 68,
   "id": "6811be76",
   "metadata": {},
   "outputs": [
    {
     "name": "stdout",
     "output_type": "stream",
     "text": [
      "Arr :  [34 67 23 78 89 56 90 76]\n",
      " +5 :  [39 72 28 83 94 61 95 81]\n",
      " *3 :  [102 201  69 234 267 168 270 228]\n",
      " -1 :  [33 66 22 77 88 55 89 75]\n",
      " /2 :  [17.  33.5 11.5 39.  44.5 28.  45.  38. ]\n",
      "//3 :  [11 22  7 26 29 18 30 25]\n",
      "**2 :  [1156 4489  529 6084 7921 3136 8100 5776]\n"
     ]
    }
   ],
   "source": [
    "#you can add, multply ,divide and subtarct  with elemnet of specfic array\n",
    "print(\"Arr : \",arr14 )\n",
    "print(\" +5 : \",arr14+5 )\n",
    "print(\" *3 : \",arr14*3 )\n",
    "print(\" -1 : \",arr14-1 )\n",
    "print(\" /2 : \",arr14/2 )\n",
    "print(\"//3 : \",arr14//3 )\n",
    "print(\"**2 : \",arr14**2 )"
   ]
  },
  {
   "cell_type": "code",
   "execution_count": 71,
   "id": "3326249e",
   "metadata": {},
   "outputs": [
    {
     "name": "stdout",
     "output_type": "stream",
     "text": [
      " - :  [-13 -44  23   0 -44 -22   0   0]\n",
      " + :  [ 55  90  69 156 134  90 180 152]\n",
      " * :  [ 714 1541 1058 6084 4005 1904 8100 5776]\n",
      "// :  [0 0 2 1 0 0 1 1]\n",
      " / :  [0.61764706 0.34328358 2.         1.         0.50561798 0.60714286\n",
      " 1.         1.        ]\n"
     ]
    }
   ],
   "source": [
    "# or you can use this also\n",
    "print(\" - : \",arr13-arr14)\n",
    "print(\" + : \",arr13+arr14)\n",
    "print(\" * : \",arr13*arr14)\n",
    "print(\"// : \",arr13//arr14)\n",
    "print(\" / : \",arr13/arr14)"
   ]
  },
  {
   "cell_type": "code",
   "execution_count": 72,
   "id": "dfe475da",
   "metadata": {},
   "outputs": [],
   "source": [
    "#save and file loadgit"
   ]
  },
  {
   "cell_type": "code",
   "execution_count": 76,
   "id": "188d1747",
   "metadata": {},
   "outputs": [],
   "source": [
    "#save array like a file\n",
    "# mt1=np.array([arr13,arr14])\n",
    "# np.save('myfilename.npy',mt1)"
   ]
  },
  {
   "cell_type": "code",
   "execution_count": 79,
   "id": "87128f39",
   "metadata": {},
   "outputs": [],
   "source": [
    "#use this file myfilename.npy or load file\n",
    "# usefile=np.load('myfilename.npy')\n",
    "# print(usefile)"
   ]
  },
  {
   "cell_type": "code",
   "execution_count": null,
   "id": "814268cc",
   "metadata": {},
   "outputs": [],
   "source": []
  }
 ],
 "metadata": {
  "kernelspec": {
   "display_name": "Python 3",
   "language": "python",
   "name": "python3"
  },
  "language_info": {
   "codemirror_mode": {
    "name": "ipython",
    "version": 3
   },
   "file_extension": ".py",
   "mimetype": "text/x-python",
   "name": "python",
   "nbconvert_exporter": "python",
   "pygments_lexer": "ipython3",
   "version": "3.8.8"
  },
  "toc": {
   "base_numbering": "",
   "nav_menu": {},
   "number_sections": false,
   "sideBar": true,
   "skip_h1_title": false,
   "title_cell": "Table of Contents",
   "title_sidebar": "Contents",
   "toc_cell": false,
   "toc_position": {},
   "toc_section_display": true,
   "toc_window_display": false
  }
 },
 "nbformat": 4,
 "nbformat_minor": 5
}
