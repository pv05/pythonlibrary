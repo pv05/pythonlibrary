{
 "cells": [
  {
   "cell_type": "markdown",
   "id": "418f7323",
   "metadata": {},
   "source": [
    "# Numpy libaray"
   ]
  },
  {
   "cell_type": "code",
   "execution_count": 1,
   "id": "6e280ecd",
   "metadata": {},
   "outputs": [],
   "source": [
    "import numpy as np"
   ]
  },
  {
   "cell_type": "code",
   "execution_count": 7,
   "id": "bfb3398c",
   "metadata": {},
   "outputs": [],
   "source": [
    "#covert List to array\n",
    "list1=[2,3,4,6,8,9,4]"
   ]
  },
  {
   "cell_type": "code",
   "execution_count": 20,
   "id": "9bfe90c0",
   "metadata": {},
   "outputs": [
    {
     "name": "stdout",
     "output_type": "stream",
     "text": [
      "[2 3 4 6 8 9 4] \n",
      " <class 'numpy.ndarray'>\n"
     ]
    }
   ],
   "source": [
    "#its 1D array\n",
    "arr1=np.array(list1)\n",
    "print(arr1,\"\\n\",arr1.__class__) "
   ]
  },
  {
   "cell_type": "code",
   "execution_count": 19,
   "id": "f9793698",
   "metadata": {},
   "outputs": [
    {
     "name": "stdout",
     "output_type": "stream",
     "text": [
      "[[23 65 78 54 89 34]\n",
      " [87 89 32 45 33 67]]\n"
     ]
    }
   ],
   "source": [
    "#its 2D array\n",
    "arr2=np.array([[23,65,78,54,89,34],[87,89,32,45,33,67]])\n",
    "arr2\n",
    "print(arr2)"
   ]
  },
  {
   "cell_type": "code",
   "execution_count": 24,
   "id": "607dc198",
   "metadata": {},
   "outputs": [
    {
     "name": "stdout",
     "output_type": "stream",
     "text": [
      "[[4 8 9 4]\n",
      " [6 9 4 2]\n",
      " [6 2 1 0]\n",
      " [3 9 7 6]]\n"
     ]
    }
   ],
   "source": [
    "#its also 2D array\n",
    "arr3=np.array([[4,8,9,4],[6,9,4,2],[6,2,1,0],[3,9,7,6]]) # its always 2d array does not matter how many list there in present\n",
    "arr3\n",
    "print(arr3)"
   ]
  },
  {
   "cell_type": "code",
   "execution_count": 63,
   "id": "5dcc5a9f",
   "metadata": {},
   "outputs": [
    {
     "name": "stdout",
     "output_type": "stream",
     "text": [
      "Dimenssion of arr1 : 1D\n",
      "Dimenssion of arr2 : 2D\n",
      "Dimenssion of arr3 : 2D\n"
     ]
    }
   ],
   "source": [
    "#check All Arrays Dimenssion\n",
    "print(f\"Dimenssion of arr1 : {arr1.ndim}D\")\n",
    "print(f\"Dimenssion of arr2 : {arr2.ndim}D\")\n",
    "print(f\"Dimenssion of arr3 : {arr3.ndim}D\")"
   ]
  },
  {
   "cell_type": "code",
   "execution_count": 28,
   "id": "b5a850d5",
   "metadata": {},
   "outputs": [
    {
     "name": "stdout",
     "output_type": "stream",
     "text": [
      "Shapes of arr1 :  (7,)\n",
      "Shapes of arr2 :  (2, 6)\n",
      "Shapes of arr3 :  (4, 4)\n"
     ]
    }
   ],
   "source": [
    "#Check There Shapes or (ROW x COLUMN)\n",
    "print('Shapes of arr1 : ',arr1.shape)\n",
    "print('Shapes of arr2 : ',arr2.shape) \n",
    "print('Shapes of arr3 : ',arr3.shape)"
   ]
  },
  {
   "cell_type": "code",
   "execution_count": 44,
   "id": "5aebe480",
   "metadata": {},
   "outputs": [
    {
     "data": {
      "text/plain": [
       "array([[[2, 3, 4, 8],\n",
       "        [9, 5, 3, 6],\n",
       "        [7, 4, 6, 3]],\n",
       "\n",
       "       [[2, 1, 0, 2],\n",
       "        [4, 9, 8, 6],\n",
       "        [8, 9, 3, 2]]])"
      ]
     },
     "execution_count": 44,
     "metadata": {},
     "output_type": "execute_result"
    }
   ],
   "source": [
    "# its 3D Array does not matter how many list there\n",
    "arr4=np.array([[[2,3,4,8],[9,5,3,6],[7,4,6,3]],[[2,1,0,2],[4,9,8,6],[8,9,3,2]]])\n",
    "arr4"
   ]
  },
  {
   "cell_type": "code",
   "execution_count": 46,
   "id": "09ca885e",
   "metadata": {},
   "outputs": [
    {
     "data": {
      "text/plain": [
       "array([[[2, 3, 4, 8],\n",
       "        [9, 5, 3, 6],\n",
       "        [7, 4, 6, 3]],\n",
       "\n",
       "       [[2, 1, 0, 2],\n",
       "        [4, 9, 8, 6],\n",
       "        [9, 9, 3, 8]],\n",
       "\n",
       "       [[7, 1, 0, 7],\n",
       "        [0, 9, 8, 0],\n",
       "        [9, 4, 6, 7]]])"
      ]
     },
     "execution_count": 46,
     "metadata": {},
     "output_type": "execute_result"
    }
   ],
   "source": [
    "arr5=np.array([[[2,3,4,8],[9,5,3,6],[7,4,6,3]],[[2,1,0,2],[4,9,8,6],[9,9,3,8]],[[7,1,0,7],[0,9,8,0],[9,4,6,7]]])\n",
    "arr5"
   ]
  },
  {
   "cell_type": "code",
   "execution_count": 62,
   "id": "1dee693d",
   "metadata": {},
   "outputs": [
    {
     "name": "stdout",
     "output_type": "stream",
     "text": [
      "Dimenssion of arr4 : 3D\n",
      "Dimenssion of arr5 : 3D\n"
     ]
    }
   ],
   "source": [
    "#check 3D Array's Dimenssion\n",
    "print(f'Dimenssion of arr4 : {arr4.ndim}D') \n",
    "print(f'Dimenssion of arr5 : {arr5.ndim}D')"
   ]
  },
  {
   "cell_type": "code",
   "execution_count": 47,
   "id": "343ea4d8",
   "metadata": {},
   "outputs": [
    {
     "name": "stdout",
     "output_type": "stream",
     "text": [
      "Shapes of arr4 :  (2, 3, 4)\n",
      "Shapes of arr5 :  (3, 3, 4)\n"
     ]
    }
   ],
   "source": [
    "#Check 3D Shapes or ( NoOfMatrix , EachROW , EachCOLUMN )\n",
    "print('Shapes of arr4 : ',arr4.shape)\n",
    "print('Shapes of arr5 : ',arr5.shape) "
   ]
  },
  {
   "cell_type": "code",
   "execution_count": 72,
   "id": "50a24a2c",
   "metadata": {},
   "outputs": [
    {
     "name": "stdout",
     "output_type": "stream",
     "text": [
      "[[34 34 34 34]\n",
      " [34 34 34 34]\n",
      " [34 34 34 34]]\n",
      "\n",
      " [['python' 'python' 'python' 'python']\n",
      " ['python' 'python' 'python' 'python']\n",
      " ['python' 'python' 'python' 'python']\n",
      " ['python' 'python' 'python' 'python']]\n"
     ]
    }
   ],
   "source": [
    "#full fucntions\n",
    "fullfun_num=np.full((3,4),34) # you type any number/string of array and also 3x4 matrox form\n",
    "print(fullfun_num)\n",
    "fullfun_str=np.full((4,4),'python') \n",
    "print(\"\\n\",fullfun_str)"
   ]
  },
  {
   "cell_type": "code",
   "execution_count": 74,
   "id": "31714257",
   "metadata": {},
   "outputs": [
    {
     "data": {
      "text/plain": [
       "array([10, 12, 14, 16, 18, 20])"
      ]
     },
     "execution_count": 74,
     "metadata": {},
     "output_type": "execute_result"
    }
   ],
   "source": [
    "#arange funncation excatly work like range fucntion python\n",
    "arr6=np.arange(10,21,2) #arange(start,end,diffrence) , there end is exclusive\n",
    "arr6"
   ]
  },
  {
   "cell_type": "code",
   "execution_count": 76,
   "id": "a0197f37",
   "metadata": {},
   "outputs": [
    {
     "data": {
      "text/plain": [
       "array([15, 14, 13, 12, 11, 10,  9,  8,  7,  6,  5,  4,  3,  2,  1])"
      ]
     },
     "execution_count": 76,
     "metadata": {},
     "output_type": "execute_result"
    }
   ],
   "source": [
    "arr6=np.arange(15,0,-1)\n",
    "arr6"
   ]
  },
  {
   "cell_type": "code",
   "execution_count": 84,
   "id": "9e55afa6",
   "metadata": {},
   "outputs": [
    {
     "data": {
      "text/plain": [
       "array([10, 10, 11, 12, 12, 13, 14, 15, 15, 16, 17, 17, 18, 19, 20])"
      ]
     },
     "execution_count": 84,
     "metadata": {},
     "output_type": "execute_result"
    }
   ],
   "source": [
    "#linspace\n",
    "arr7=np.linspace(10,20,15, dtype=int) # it have inclusive and it diveded with 15 equal parts\n",
    "arr7\n",
    "#logic behind dived equal parts b/w 10 to 20\n",
    "#(20-10)/15-1 = 10/14 =0.71428571 and just add this number with 10 until we will not got 20 "
   ]
  },
  {
   "cell_type": "code",
   "execution_count": 89,
   "id": "ff439a1a",
   "metadata": {},
   "outputs": [
    {
     "name": "stdout",
     "output_type": "stream",
     "text": [
      "<class 'numpy.ndarray'>\n"
     ]
    },
    {
     "data": {
      "text/plain": [
       "array([[10, 10, 11, 12, 12],\n",
       "       [13, 14, 15, 15, 16],\n",
       "       [17, 17, 18, 19, 20]])"
      ]
     },
     "execution_count": 89,
     "metadata": {},
     "output_type": "execute_result"
    }
   ],
   "source": [
    "#covert arr7 array into matrix\n",
    "mat1=arr7.reshape((3,5)) # by default its column wise show not row wise\n",
    "mat1"
   ]
  },
  {
   "cell_type": "code",
   "execution_count": 88,
   "id": "bf1e36e5",
   "metadata": {},
   "outputs": [
    {
     "data": {
      "text/plain": [
       "array([[10, 12, 14, 16, 18],\n",
       "       [10, 12, 15, 17, 19],\n",
       "       [11, 13, 15, 17, 20]])"
      ]
     },
     "execution_count": 88,
     "metadata": {},
     "output_type": "execute_result"
    }
   ],
   "source": [
    "mat1=arr7.reshape((3,5),order='F') # now its row wise show not column wise\n",
    "mat1"
   ]
  },
  {
   "cell_type": "code",
   "execution_count": 94,
   "id": "c0afb2b6",
   "metadata": {},
   "outputs": [
    {
     "data": {
      "text/plain": [
       "array([10, 10, 11, 12, 12, 13, 14, 15, 15, 16, 17, 17, 18, 19, 20])"
      ]
     },
     "execution_count": 94,
     "metadata": {},
     "output_type": "execute_result"
    }
   ],
   "source": [
    "#covert again matrix to array\n",
    "mat1_to_arr=mat1.flatten()\n",
    "mat1_to_arr"
   ]
  },
  {
   "cell_type": "code",
   "execution_count": 103,
   "id": "84f2c071",
   "metadata": {},
   "outputs": [
    {
     "data": {
      "text/plain": [
       "array([2, 6, 7, 8])"
      ]
     },
     "execution_count": 103,
     "metadata": {},
     "output_type": "execute_result"
    }
   ],
   "source": [
    "#show unique values from array\n",
    "unqarr1=np.array([[2,2,6],[7,8,7]],dtype=int)\n",
    "unqarr1=np.unique(unqarr1)\n",
    "unqarr1"
   ]
  },
  {
   "cell_type": "code",
   "execution_count": 113,
   "id": "f637e311",
   "metadata": {},
   "outputs": [
    {
     "name": "stdout",
     "output_type": "stream",
     "text": [
      "[10 11 12 13 14 15 16 17 18 19] \n",
      " [20 21 22 23 24 25 26 27 28 29]\n",
      "\n",
      "Concatenate Above Array\n",
      " [20 21 22 23 24 25 26 27 28 29 10 11 12 13 14 15 16 17 18 19]\n"
     ]
    }
   ],
   "source": [
    "#concatinate two or more arrays\n",
    "arr8=np.linspace(10,19,10,dtype=int)\n",
    "arr9=np.linspace(20,29,10,dtype=int)\n",
    "print(arr8,\"\\n\",arr9)\n",
    "concat=np.concatenate((arr9,arr8)) # you pass with list or tuple\n",
    "print(\"\\nConcatenate Above Array\\n\",concat)"
   ]
  },
  {
   "cell_type": "code",
   "execution_count": 118,
   "id": "69332d94",
   "metadata": {},
   "outputs": [
    {
     "name": "stdout",
     "output_type": "stream",
     "text": [
      "(10, 2)\n"
     ]
    },
    {
     "data": {
      "text/plain": [
       "array([[10, 11],\n",
       "       [12, 13],\n",
       "       [14, 15],\n",
       "       [16, 17],\n",
       "       [18, 19],\n",
       "       [20, 21],\n",
       "       [22, 23],\n",
       "       [24, 25],\n",
       "       [26, 27],\n",
       "       [28, 29]])"
      ]
     },
     "execution_count": 118,
     "metadata": {},
     "output_type": "execute_result"
    }
   ],
   "source": [
    "#COLUMN must be same but ROW may be diffrent also rowxcolumn must be same \n",
    "mm1=arr8.reshape((5,2))\n",
    "mm2=arr9.reshape((5,2))\n",
    "concat=np.concatenate([mm1,mm2])\n",
    "print(concat.shape)\n",
    "concat"
   ]
  },
  {
   "cell_type": "code",
   "execution_count": 129,
   "id": "5d6162d4",
   "metadata": {},
   "outputs": [
    {
     "name": "stdout",
     "output_type": "stream",
     "text": [
      "<class 'list'> \n",
      " [[10, 11], [12, 13], [14, 15], [16, 17], [18, 19]]\n"
     ]
    }
   ],
   "source": [
    "#convert array to list\n",
    "l1=mm1.tolist()\n",
    "print(l1.__class__,\"\\n\",l1)"
   ]
  },
  {
   "cell_type": "code",
   "execution_count": 594,
   "id": "7363725c",
   "metadata": {},
   "outputs": [
    {
     "data": {
      "text/plain": [
       "array([10,  1,  1,  5,  4,  8,  5,  5])"
      ]
     },
     "execution_count": 594,
     "metadata": {},
     "output_type": "execute_result"
    }
   ],
   "source": [
    "#random number geberate into array\n",
    "arr10=np.random.randint(1,11,8) # (start,end,diffrence), end is exclusive\n",
    "arr10"
   ]
  },
  {
   "cell_type": "code",
   "execution_count": 607,
   "id": "b79d3e3b",
   "metadata": {},
   "outputs": [
    {
     "name": "stdout",
     "output_type": "stream",
     "text": [
      "10 \n",
      " 5 \n",
      " 8\n",
      "[10  1  1] \n",
      " [8 5 5] \n",
      " [1 5 4 8] \n",
      " [1 5 4]\n"
     ]
    }
   ],
   "source": [
    "#indexing acces like in python with array\n",
    "print(arr10[0],\"\\n\",arr10[-1],\"\\n\",arr10[-3])\n",
    "print(arr10[:3],\"\\n\",arr10[5:],\"\\n\",arr10[2:6],\"\\n\",arr10[2:-3])"
   ]
  },
  {
   "cell_type": "code",
   "execution_count": 624,
   "id": "f54b08c3",
   "metadata": {},
   "outputs": [
    {
     "name": "stdout",
     "output_type": "stream",
     "text": [
      "[[2 3 4 8]\n",
      " [9 5 3 6]\n",
      " [7 4 6 3]] \n",
      "\n",
      " [[2 1 0 2]\n",
      " [4 9 8 6]\n",
      " [9 9 3 8]] \n",
      "\n",
      " [[7 1 0 7]\n",
      " [0 9 8 0]\n",
      " [9 4 6 7]] \n",
      "\n",
      "\n",
      "[7 4 6 3] \n",
      "\n"
     ]
    }
   ],
   "source": [
    "#arr5 is 3D matrix on top where we created\n",
    "arr5\n",
    "print(arr5[0],'\\n\\n',arr5[1],'\\n\\n',arr5[2],'\\n\\n')\n",
    "print(arr5[0][2],'\\n')"
   ]
  },
  {
   "cell_type": "code",
   "execution_count": 625,
   "id": "d02172c9",
   "metadata": {},
   "outputs": [
    {
     "name": "stdout",
     "output_type": "stream",
     "text": [
      "[[2 3 4 8]\n",
      " [9 5 3 6]\n",
      " [7 4 6 3]] \n",
      "\n",
      " [[2 1 0 2]\n",
      " [4 9 8 6]\n",
      " [9 9 3 8]] \n",
      "\n",
      " [[7 1 0 7]\n",
      " [0 9 8 0]\n",
      " [9 4 6 7]] \n",
      "\n",
      "\n",
      "[9 9 3 8] \n",
      "\n"
     ]
    }
   ],
   "source": [
    "print(arr5[0],'\\n\\n',arr5[1],'\\n\\n',arr5[2],'\\n\\n')\n",
    "print(arr5[1][2],'\\n')"
   ]
  },
  {
   "cell_type": "code",
   "execution_count": 627,
   "id": "9525e9a7",
   "metadata": {},
   "outputs": [
    {
     "name": "stdout",
     "output_type": "stream",
     "text": [
      "[[2 3 4 8]\n",
      " [9 5 3 6]\n",
      " [7 4 6 3]] \n",
      "\n",
      " [[2 1 0 2]\n",
      " [4 9 8 6]\n",
      " [9 9 3 8]] \n",
      "\n",
      " [[7 1 0 7]\n",
      " [0 9 8 0]\n",
      " [9 4 6 7]] \n",
      "\n",
      "\n",
      "[7 1 0] \n",
      "\n"
     ]
    }
   ],
   "source": [
    "print(arr5[0],'\\n\\n',arr5[1],'\\n\\n',arr5[2],'\\n\\n')\n",
    "print(arr5[2][0][:3],'\\n')"
   ]
  },
  {
   "cell_type": "code",
   "execution_count": 628,
   "id": "f23c1607",
   "metadata": {},
   "outputs": [
    {
     "name": "stdout",
     "output_type": "stream",
     "text": [
      "[[2 3 4 8]\n",
      " [9 5 3 6]\n",
      " [7 4 6 3]] \n",
      "\n",
      " [[2 1 0 2]\n",
      " [4 9 8 6]\n",
      " [9 9 3 8]] \n",
      "\n",
      " [[7 1 0 7]\n",
      " [0 9 8 0]\n",
      " [9 4 6 7]] \n",
      "\n",
      "\n",
      "[2 1 0] \n",
      "\n"
     ]
    }
   ],
   "source": [
    "print(arr5[0],'\\n\\n',arr5[1],'\\n\\n',arr5[2],'\\n\\n')\n",
    "print(arr5[1][0][:-1],'\\n')"
   ]
  },
  {
   "cell_type": "code",
   "execution_count": null,
   "id": "17bd74c7",
   "metadata": {},
   "outputs": [],
   "source": []
  },
  {
   "cell_type": "code",
   "execution_count": null,
   "id": "acb7ffef",
   "metadata": {},
   "outputs": [],
   "source": []
  },
  {
   "cell_type": "code",
   "execution_count": null,
   "id": "4fc527b0",
   "metadata": {},
   "outputs": [],
   "source": []
  },
  {
   "cell_type": "code",
   "execution_count": null,
   "id": "c2284556",
   "metadata": {},
   "outputs": [],
   "source": []
  },
  {
   "cell_type": "code",
   "execution_count": null,
   "id": "72be8744",
   "metadata": {},
   "outputs": [],
   "source": []
  }
 ],
 "metadata": {
  "kernelspec": {
   "display_name": "Python 3",
   "language": "python",
   "name": "python3"
  },
  "language_info": {
   "codemirror_mode": {
    "name": "ipython",
    "version": 3
   },
   "file_extension": ".py",
   "mimetype": "text/x-python",
   "name": "python",
   "nbconvert_exporter": "python",
   "pygments_lexer": "ipython3",
   "version": "3.8.8"
  },
  "toc": {
   "base_numbering": "",
   "nav_menu": {},
   "number_sections": false,
   "sideBar": true,
   "skip_h1_title": false,
   "title_cell": "Table of Contents",
   "title_sidebar": "Contents",
   "toc_cell": false,
   "toc_position": {},
   "toc_section_display": true,
   "toc_window_display": false
  }
 },
 "nbformat": 4,
 "nbformat_minor": 5
}
